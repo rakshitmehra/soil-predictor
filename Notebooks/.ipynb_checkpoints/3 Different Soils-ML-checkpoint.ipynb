{
 "cells": [
  {
   "cell_type": "code",
   "execution_count": null,
   "id": "13b4993f",
   "metadata": {},
   "outputs": [],
   "source": [
    "import pandas as pd\n",
    "import numpy as np"
   ]
  },
  {
   "cell_type": "code",
   "execution_count": null,
   "id": "e77c9d4b",
   "metadata": {},
   "outputs": [],
   "source": [
    "df = pd.read_csv('../Dataset/Soil dataset for new research paper.csv')\n",
    "df.head()"
   ]
  },
  {
   "cell_type": "code",
   "execution_count": null,
   "id": "280e9f19",
   "metadata": {},
   "outputs": [],
   "source": [
    "df.tail()"
   ]
  },
  {
   "cell_type": "code",
   "execution_count": null,
   "id": "92074f19",
   "metadata": {},
   "outputs": [],
   "source": [
    "df.head()"
   ]
  },
  {
   "cell_type": "code",
   "execution_count": null,
   "id": "57b9aa8f",
   "metadata": {},
   "outputs": [],
   "source": [
    "df.info"
   ]
  },
  {
   "cell_type": "code",
   "execution_count": null,
   "id": "021b5a0f",
   "metadata": {},
   "outputs": [],
   "source": [
    "df.isnull().sum()"
   ]
  },
  {
   "cell_type": "code",
   "execution_count": null,
   "id": "4b62a4e8",
   "metadata": {},
   "outputs": [],
   "source": [
    "df.shape"
   ]
  },
  {
   "cell_type": "code",
   "execution_count": null,
   "id": "d1163eff",
   "metadata": {},
   "outputs": [],
   "source": [
    "df.Label.value_counts()"
   ]
  },
  {
   "cell_type": "code",
   "execution_count": null,
   "id": "af8f22d4",
   "metadata": {},
   "outputs": [],
   "source": [
    "# Plot boxplots for the feature variables\n",
    "import matplotlib.pyplot as plt\n",
    "import seaborn as sns\n",
    "\n",
    "fig, axes = plt.subplots(nrows=3, ncols=2, figsize=(20, 15))\n",
    "\n",
    "for ax, column in zip(axes.flatten(), df.columns):\n",
    "    sns.boxplot(y=df[column], \n",
    "                color=\"#4682B4\", \n",
    "                ax=ax)\n",
    "    ax.set_title(f\"{column}\", fontsize=18)\n",
    "\n",
    "plt.tight_layout()\n",
    "plt.show()"
   ]
  },
  {
   "cell_type": "code",
   "execution_count": null,
   "id": "dca98d4c",
   "metadata": {},
   "outputs": [],
   "source": [
    "df.Conductivity.sort_values().tail()"
   ]
  },
  {
   "cell_type": "code",
   "execution_count": null,
   "id": "7f57df2c",
   "metadata": {},
   "outputs": [],
   "source": [
    "df.Temperature.sort_values().tail()"
   ]
  },
  {
   "cell_type": "code",
   "execution_count": null,
   "id": "1d600bab",
   "metadata": {},
   "outputs": [],
   "source": [
    "df = df.drop(df.index[df.Conductivity == 2.0000])\n",
    "df = df.drop(df.index[df.Conductivity == 1.514])\n",
    "df = df.drop(df.index[df.Temperature == 54.0])\n",
    "df = df.drop(df.index[df.Temperature == 53.0])\n",
    "df = df.drop(df.index[df.Temperature == 52.0])\n",
    "\n",
    "df.Conductivity.sort_values().tail()"
   ]
  },
  {
   "cell_type": "code",
   "execution_count": null,
   "id": "ec68ad63",
   "metadata": {},
   "outputs": [],
   "source": [
    "import matplotlib.pyplot as plt\n",
    "import seaborn as sns\n",
    "\n",
    "fig, axes = plt.subplots(nrows=3, ncols=2, figsize=(20, 15))\n",
    "\n",
    "for ax, column in zip(axes.flatten(), df.columns):\n",
    "    sns.boxplot(y=df[column], \n",
    "                color=\"#4682B4\", \n",
    "                ax=ax)\n",
    "    ax.set_title(f\"{column}\", fontsize=18)\n",
    "\n",
    "plt.tight_layout()\n",
    "plt.show()"
   ]
  },
  {
   "cell_type": "code",
   "execution_count": null,
   "id": "43eaa4c3",
   "metadata": {},
   "outputs": [],
   "source": [
    "# Map RiskLevel to integer values\n",
    "risk_mapping = {\"Alluvial Soil\": 0, \"Desert Soil\": 1, \"Loamy Soil\": 2, \"Red Soil\": 3}\n",
    "df[\"Label\"] = df[\"Label\"].map(risk_mapping)\n",
    "df.info()"
   ]
  },
  {
   "cell_type": "code",
   "execution_count": null,
   "id": "e1cf1cd0",
   "metadata": {},
   "outputs": [],
   "source": [
    "# Create a correlation heatmap\n",
    "plt.figure(figsize=(22,20))  \n",
    "sns.heatmap(df.corr(), annot=True, cmap = \"GnBu\")\n",
    "plt.title(\"Correlation Heatmap of Variables\", fontsize=16)\n",
    "plt.show()"
   ]
  },
  {
   "cell_type": "code",
   "execution_count": null,
   "id": "e4bf4736",
   "metadata": {
    "scrolled": true
   },
   "outputs": [],
   "source": [
    "X = df.drop(columns=['Humidity'])\n",
    "y = df['Humidity']"
   ]
  },
  {
   "cell_type": "code",
   "execution_count": null,
   "id": "f7d7c360",
   "metadata": {},
   "outputs": [],
   "source": [
    "# Create a correlation heatmap\n",
    "plt.figure(figsize=(22,20))  \n",
    "sns.heatmap(df.corr(), annot=True, cmap = \"GnBu\")\n",
    "plt.title(\"Correlation Heatmap of Variables\", fontsize=16)\n",
    "plt.show()"
   ]
  },
  {
   "cell_type": "code",
   "execution_count": null,
   "id": "8205c68f",
   "metadata": {},
   "outputs": [],
   "source": [
    "X = df.drop(columns=['Label'])\n",
    "y = df['Label']"
   ]
  },
  {
   "cell_type": "code",
   "execution_count": null,
   "id": "e6291bd1",
   "metadata": {},
   "outputs": [],
   "source": [
    "df.head()"
   ]
  },
  {
   "cell_type": "code",
   "execution_count": null,
   "id": "e1611948",
   "metadata": {},
   "outputs": [],
   "source": [
    "import pandas as pd\n",
    "import numpy as np\n",
    "from sklearn.model_selection import train_test_split\n",
    "from sklearn.ensemble import RandomForestClassifier\n",
    "from xgboost import XGBClassifier\n",
    "from sklearn.model_selection import GridSearchCV\n",
    "from sklearn.metrics import accuracy_score, classification_report, confusion_matrix\n",
    "from sklearn.preprocessing import LabelEncoder\n",
    "import pickle\n",
    "import joblib"
   ]
  },
  {
   "cell_type": "code",
   "execution_count": null,
   "id": "cdf2e925",
   "metadata": {},
   "outputs": [],
   "source": [
    "label_encoder = LabelEncoder()\n",
    "y_encoded = label_encoder.fit_transform(y)"
   ]
  },
  {
   "cell_type": "code",
   "execution_count": null,
   "id": "823067c7",
   "metadata": {},
   "outputs": [],
   "source": [
    "X_train, X_test, y_train, y_test = train_test_split(X, y_encoded, test_size=0.2, random_state=42, stratify = y)"
   ]
  },
  {
   "cell_type": "code",
   "execution_count": null,
   "id": "0f8484fa",
   "metadata": {},
   "outputs": [],
   "source": [
    "rf_classifier = RandomForestClassifier(n_estimators=100, random_state=42)\n",
    "# xgb_classifier = XGBClassifier(random_state=42)"
   ]
  },
  {
   "cell_type": "code",
   "execution_count": null,
   "id": "dbd29d8a",
   "metadata": {},
   "outputs": [],
   "source": [
    "rf_classifier.fit(X_train, y_train)\n",
    "# xgb_classifier.fit(X_train, y_train)\n",
    "print(f\"Baseline Random Forest: {round(rf_classifier.score(X_test, y_test), 3)}\")"
   ]
  },
  {
   "cell_type": "markdown",
   "id": "0905d862",
   "metadata": {},
   "source": [
    "## Cross Check Our Model"
   ]
  },
  {
   "cell_type": "code",
   "execution_count": null,
   "id": "c69a3fc7",
   "metadata": {},
   "outputs": [],
   "source": [
    "# Cross validate Random Forest Classifier model\n",
    "scores_RF = cross_val_score(random_forest, X_train, y_train, cv=3, scoring = \"accuracy\")\n",
    "print(f\"Scores(Cross validate) for Random forest model:\\n{scores_RF}\")\n",
    "print(f\"CrossValMeans: {round(scores_RF.mean(), 3)}\")\n",
    "print(f\"CrossValStandard Deviation: {round(scores_RF.std(), 3)}\")"
   ]
  },
  {
   "cell_type": "code",
   "execution_count": null,
   "id": "0a635c9a",
   "metadata": {},
   "outputs": [],
   "source": [
    "params_RF = {\"min_samples_split\": [2, 6, 20],\n",
    "              \"min_samples_leaf\": [1, 2, 4],\n",
    "              \"n_estimators\" :[50,100,200,300,400],\n",
    "              \"max_depth\": [None, 10, 20, 30],\n",
    "              \"criterion\": [\"gini\", \"entropy\"]             \n",
    "              }"
   ]
  },
  {
   "cell_type": "code",
   "execution_count": null,
   "id": "3ac0faea",
   "metadata": {},
   "outputs": [],
   "source": [
    "GridSearchCV_RF = GridSearchCV(estimator=RandomForestClassifier(), \n",
    "                                param_grid=params_RF,\n",
    "                                cv=3,\n",
    "                                scoring=\"accuracy\",\n",
    "                                return_train_score=True\n",
    "                                )"
   ]
  },
  {
   "cell_type": "code",
   "execution_count": null,
   "id": "8d31d6e8",
   "metadata": {},
   "outputs": [],
   "source": [
    "GridSearchCV_RF.fit(X_train, y_train);"
   ]
  },
  {
   "cell_type": "code",
   "execution_count": null,
   "id": "3a85c56a",
   "metadata": {},
   "outputs": [],
   "source": [
    "print(f\"Best estimator for RF model:\\n{GridSearchCV_RF.best_estimator_}\")\n",
    "print(f\"Best parameter values for RF model:\\n{GridSearchCV_RF.best_params_}\")\n",
    "print(f\"Best score for RF model: {round(GridSearchCV_RF.best_score_, 3)}\")"
   ]
  },
  {
   "cell_type": "code",
   "execution_count": null,
   "id": "57f312f6",
   "metadata": {},
   "outputs": [],
   "source": [
    "# Test with new parameter\n",
    "random_forest = RandomForestClassifier(criterion=\"entropy\", max_depth=30, min_samples_leaf=2, min_samples_split=6, n_estimators=50, random_state=42)\n",
    "rf_classifier = random_forest.fit(X_train, y_train)\n",
    "pred_random_forest = rf_classifier.predict(X_test)\n",
    "\n",
    "# mse_random_forest = mean_squared_error(y_test, pred_random_forest)\n",
    "# rmse_random_forest = np.sqrt(mean_squared_error(y_test, pred_random_forest))\n",
    "score_random_forest_train = rf_classifier.score(X_train, y_train)\n",
    "score_random_forest_test = rf_classifier.score(X_test, y_test)"
   ]
  },
  {
   "cell_type": "code",
   "execution_count": null,
   "id": "6497c54f",
   "metadata": {},
   "outputs": [],
   "source": [
    "# print(f\"Mean Square Error for Random Forest = {round(mse_random_forest, 3)}\")\n",
    "# print(f\"Root Mean Square Error for Random Forest = {round(rmse_random_forest, 3)}\")\n",
    "print(f\"R^2(coefficient of determination) on training set = {round(score_random_forest_train, 3)}\")\n",
    "print(f\"R^2(coefficient of determination) on testing set = {round(score_random_forest_test, 3)}\")"
   ]
  },
  {
   "cell_type": "markdown",
   "id": "f477697d",
   "metadata": {},
   "source": [
    "# -------"
   ]
  },
  {
   "cell_type": "code",
   "execution_count": null,
   "id": "75cb8b90",
   "metadata": {},
   "outputs": [],
   "source": [
    "print(label_encoder.transform(['Alluvial Soil', 'Loamy Soil', 'Red Soil', 'Desert Soil']))"
   ]
  },
  {
   "cell_type": "code",
   "execution_count": null,
   "id": "bf2f3b18",
   "metadata": {},
   "outputs": [],
   "source": [
    "y_pred = rf_classifier.predict(X_test)\n",
    "# y_pred = xgb_classifier.predict(X_test)"
   ]
  },
  {
   "cell_type": "code",
   "execution_count": null,
   "id": "65375bb6",
   "metadata": {
    "scrolled": true
   },
   "outputs": [],
   "source": [
    "y_pred_original = label_encoder.inverse_transform(y_pred)"
   ]
  },
  {
   "cell_type": "code",
   "execution_count": null,
   "id": "0d39ad0a",
   "metadata": {},
   "outputs": [],
   "source": [
    "accuracy = accuracy_score(y_test, y_pred)\n",
    "print(f'Accuracy: {accuracy}')"
   ]
  },
  {
   "cell_type": "code",
   "execution_count": null,
   "id": "b5ac74b1",
   "metadata": {
    "scrolled": true
   },
   "outputs": [],
   "source": [
    "print(classification_report(y_test, y_pred))\n",
    "print(confusion_matrix(y_test, y_pred))"
   ]
  },
  {
   "cell_type": "code",
   "execution_count": null,
   "id": "2cb9b4ac",
   "metadata": {},
   "outputs": [],
   "source": [
    "input_values = np.array([[31, 13, 25, 54, 21, 0.32, 6.9]])\n",
    "predicted_labels = rf_classifier.predict(input_values)\n",
    "# input_values = np.array([[15, 15, 15, 45, 15, 0.3, 7.88]])\n",
    "# predicted_labels = xgb_classifier.predict(input_values)\n",
    "\n",
    "predicted_soil_name = label_encoder.inverse_transform(predicted_labels)\n",
    "print(f'Predicted soil name: {predicted_soil_name}')"
   ]
  },
  {
   "cell_type": "code",
   "execution_count": null,
   "id": "3a31dbd1",
   "metadata": {},
   "outputs": [],
   "source": [
    "feature_importances = rf_classifier.feature_importances_\n",
    "# feature_importances = xgb_classifier.feature_importances_\n",
    "print(f'Feature Importances: {feature_importances}')"
   ]
  },
  {
   "cell_type": "code",
   "execution_count": null,
   "id": "61c0e198",
   "metadata": {},
   "outputs": [],
   "source": [
    "from sklearn.model_selection import cross_val_score\n",
    "\n",
    "scores = cross_val_score(rf_classifier, X, y_encoded, cv=5)\n",
    "# scores = cross_val_score(xgb_classifier, X, y_encoded, cv=5)\n",
    "print(f'Cross-Validation Scores: {scores}')"
   ]
  },
  {
   "cell_type": "code",
   "execution_count": null,
   "id": "113a6d30",
   "metadata": {},
   "outputs": [],
   "source": [
    "# xgb_classifier.save_model('../SavedModels/xgboost_model.txt')"
   ]
  },
  {
   "cell_type": "code",
   "execution_count": null,
   "id": "185bc8ff",
   "metadata": {},
   "outputs": [],
   "source": [
    "# Save the model with pickle\n",
    "# with open('../SavedModels/4-crops.pkl', 'wb') as file:\n",
    "#     pickle.dump(rf_classifier, file, protocol=4)\n",
    "# joblib.dump(rf_classifier, '../SavedModels/4-soils.joblib')\n",
    "# joblib.dump(xgb_classifier, '../SavedModels/6-soil.joblib')"
   ]
  }
 ],
 "metadata": {
  "kernelspec": {
   "display_name": "Python 3 (ipykernel)",
   "language": "python",
   "name": "python3"
  },
  "language_info": {
   "codemirror_mode": {
    "name": "ipython",
    "version": 3
   },
   "file_extension": ".py",
   "mimetype": "text/x-python",
   "name": "python",
   "nbconvert_exporter": "python",
   "pygments_lexer": "ipython3",
   "version": "3.9.12"
  }
 },
 "nbformat": 4,
 "nbformat_minor": 5
}
